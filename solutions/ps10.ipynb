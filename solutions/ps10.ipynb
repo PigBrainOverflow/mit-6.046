{
 "cells": [
  {
   "cell_type": "markdown",
   "metadata": {},
   "source": [
    "### Synchronous Distributed Algorithm\n",
    "\n",
    "1. Properties of Distributed Algorithms:\n",
    "    1. A process of each node is an infinite-state automaton. Processes don't need to be distinguishable (no UIDs).\n",
    "    2. Leader Election: A process outputs a special leader signal.\n",
    "    3. To break symmetry, we need uniqueness or randomness.\n",
    "    4. Synchronous means the processes run in rounds.\n",
    "\n",
    "2. Maximal Independent Set (MIS): No two nodes in the set are neighbors. Note: It's not maximum, which means the largest number of nodes. Maximal means you cannot add more nodes to the set."
   ]
  },
  {
   "cell_type": "markdown",
   "metadata": {},
   "source": [
    "### problem 10-1\n",
    "\n",
    "1. There's no such algorithm. We can prove by induction. Base: In phase $0$, all processes have the same information $n$ so they are in the same state. Induction: In phase $k$, suppose all processes have the same state. No matter what they do (send/receive messages to/from $left$ and/or $right$), they will still reach the same state. Therefore, all processes will output $LEADER$ or not in a phase.\n",
    "\n",
    "2. \n",
    "    All nodes have fields: $id$ and $maxid$. Our algorithm runs in steps:\n",
    "    1. Each node picks $id$ at random and initializes $maxid = id$.\n",
    "    2. Each node sends $maxid$ to $left$, also receives from $right$, updating $maxid$ by $maxid = \\max(maxid, maxid_{right})$. Repeat $n-1$ times.\n",
    "    3. In the $n$-th round,\n",
    "        - Case 1: $id > maxid$, output $LEADER$ and broadcast $DONE$.\n",
    "        - Case 2: $id = maxid$, broadcast $AGAIN$.\n",
    "        - Case 3: $id < maxid$, do nothing but wait for $DONE$ or $AGAIN$.\n",
    "    4. If a conflict is found ($AGAIN$), rerun the algorithm.\n",
    "\n",
    "    If the algorithm is run once, it costs $2n$ rounds and approximately $2n^2$ messages. Suppose nodes pick $id$ in $\\{1, 2, \\cdots, N\\}$, then the probability of having exactly one maximum $id$ in $n$ nodes $P = \\frac{\\sum_{x=1}^{N}n(x-1)^{n-1}}{N^n} < n(\\frac{N-1}{N})^n$. Our algorithm will run $2kn$ rounds with probability $(1-P)^{k-1}$.\n",
    "\n",
    "3. There's no such algorithm that can elect a leader with probability $1$. Suppose there exists an algorithm for a ring of nodes $\\{N_1, N_2, \\cdots, N_n\\}$, and it terminates in round $k$ and elects the leader node $N_k$ (without loss of generality). Then $N_k$ has the information of at most $\\{N_1, N_2, \\cdots, N_{2k}\\}$. We construct the information of $\\{N_{2k+1}, N_{2k+2}, \\cdots, N_{4k}\\} = \\{N_1, N_2, \\cdots, N_{2k}\\}$, and $N_{3k}$ will have the same state as $N_{k}$ does and also think itself as a leader. Contradiction."
   ]
  },
  {
   "cell_type": "code",
   "execution_count": 3,
   "metadata": {},
   "outputs": [
    {
     "name": "stdout",
     "output_type": "stream",
     "text": [
      "0.999950000825\n"
     ]
    }
   ],
   "source": [
    "n = 100\n",
    "N = 1000000 # N = n ^ 3\n",
    "P = n * sum(i ** (n - 1) for i in range(1, N)) / N ** n\n",
    "print(P)"
   ]
  }
 ],
 "metadata": {
  "kernelspec": {
   "display_name": "pytorch",
   "language": "python",
   "name": "python3"
  },
  "language_info": {
   "codemirror_mode": {
    "name": "ipython",
    "version": 3
   },
   "file_extension": ".py",
   "mimetype": "text/x-python",
   "name": "python",
   "nbconvert_exporter": "python",
   "pygments_lexer": "ipython3",
   "version": "3.11.5"
  }
 },
 "nbformat": 4,
 "nbformat_minor": 2
}
