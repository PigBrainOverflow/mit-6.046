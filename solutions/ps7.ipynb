{
 "cells": [
  {
   "cell_type": "markdown",
   "metadata": {},
   "source": [
    "### Network Flow\n",
    "\n",
    "1. Flow Network: A directed graph $G(V, E)$ with two distinct vertices: source $s$ and sink $t$. Each edge $e_{u,v}$ has a nonnegative capacity $c_{u,v}$.\n",
    "\n",
    "2. Properties on Vertex:\n",
    "    - Skew Symmetry: $f(u,v) = -f(v,u)$\n",
    "    - Flow Conservation: $\\forall u \\in V-s-t, \\sum_{v\\in V} f(u,v) = 0$\n",
    "\n",
    "3. Properties on Set of Vertices:\n",
    "    - $f(X, X) = 0$\n",
    "    - $f(X, Y) = f(Y, X)$\n",
    "    - $f(X\\cup Y, Z) = f(X, Z) + f(Y, Z)$ if $X\\cap Y = \\emptyset$\n",
    "    - $f(X, V) = 0$ if $s, t \\notin X$\n",
    "\n",
    "4. Important Definitions:\n",
    "    - capacity of cut $c(S, T)$: only counts out capacity, nonnegative.\n",
    "    - residual capacity of flow $f$: $c_f(u, v) = c_{u,v} - f(u, v) \\ge 0$. (usually we omit the zero-capacity edges)\n",
    "    - augmenting path on residual graph $G_f$: a path in $G_f$ from $s$ to $t$.\n",
    "    - residual capacity of a path $p$ on residual graph $G_f$: $c_{f}(p) = \\min_{e_{u,v}\\in p}{c_f(u,v)}$.\n",
    "\n",
    "5. Max-Flow-Min-Cut Theorem\n",
    "    - IDEA: Any flow is bounded by any cut.\n",
    "    - Lemma: $|f| = f(S, T) \\le c(S, T)$ for any cut $S, T$.\n",
    "    - They are equivalent statements:\n",
    "        - $|f| = c(S, T)$ for some cut $S, T$.\n",
    "        - $f$ is a maximum flow.\n",
    "        - $G_f$ admits no augmenting path.\n",
    "\n",
    "6. Ford-Fulkerson Method: improving by finding new augmenting paths (DFS), in $O(|f|(|V|+|E|))$.\n",
    "7. Edmonds-Karp Algorithm: applying BFS to find the shortest augmenting path in each iteration, in $O(|V||E|(|V|+|E|))$.\n",
    "8. Orlin Algorithm: $O(|V||E|)$.\n",
    "\n",
    "9. Applications: Assignments\n",
    "    - finite capacity: the total amount.\n",
    "    - infinite capacity: the amount can be assigned arbitrarily."
   ]
  },
  {
   "cell_type": "markdown",
   "metadata": {},
   "source": [
    "### Edmonds-Karp Analysis\n",
    "\n",
    "1. Lemma 1: Let $\\delta(v) = \\delta_f(s, v)$ be the distance from $s$ to $v$. During the Edmonds-Karp Algorithm, $\\delta(v)$ increases monotonically.\n",
    "2. Lemma 2: During the Edmonds-Karp Algorithm, each edge is saturated at most $|V|$ times."
   ]
  },
  {
   "cell_type": "markdown",
   "metadata": {},
   "source": [
    "### problem 7-1\n",
    "\n",
    "1. \n",
    "    - Increase the capacity: We can simply create the new residual graph $G'_f$ by increasing the capacity $c'_f(u, v) = c_f(u, v) + k$. In each iteration $i$ of Ford-Fulkerson Method, for the augmenting path $p_i$ of $G'_{f_i}$, we have $e_{u, v} \\in p_i$ (otherwise, $f$ cannot be the max flow of $G$). Therefore, $f_i$ can be increased by at most $k$. The trickiest part is that we need to prove during iterations, we never augment the path which contains a new reversed edge.\n",
    "    - Decrease the capacity: The min cut will be decreased by at most $k$.\n",
    "\n",
    "2. Run Ford-Fulkerson Method on $G'_f$. The time complexity is $O(k\\cdot (|V|+|E|))$.\n",
    "\n",
    "3. We first push back the flow to $u$ by $k$ and diminish the flow from $v$ by $k$ in a round of DFS, then we apply Ford-Fulkerson Method. The time complexity is $O(k\\cdot (|V|+|E|))$."
   ]
  },
  {
   "cell_type": "markdown",
   "metadata": {},
   "source": [
    "### problem 7-2\n",
    "\n",
    "We add a super-source $s$ to the original graph $G$ and connect it to $s_i$ respectively. Set each edge with capacity $1$. Run Ford-Fulkerson Method and check whether its maximum flow is $k$. The time complexity is $O(k\\cdot (|V| + |E|))$."
   ]
  },
  {
   "cell_type": "markdown",
   "metadata": {},
   "source": [
    "### problem 7-3\n",
    "\n",
    "We model it as assigning lunches to customers:\n",
    "1. Add edges from a super-source $s$ to $b_j$ with capacity $q_j$.\n",
    "2. Add edges from $b_j$ to $a_i$ with capacity $1$, according to $A_i$.\n",
    "3. Add edges from $a_i$ to a super-sink $t$ with capacity $1$.\n",
    "4. The minimum number of vouches is $n - |f|$.\n",
    "\n",
    "For step 1, we guarantee the amount of food items not exceeding their limit. In step 3, we make the flow indicate whether customer $a_i$ is satisfied. The time complexity is $O(mn^2)$."
   ]
  }
 ],
 "metadata": {
  "language_info": {
   "name": "python"
  }
 },
 "nbformat": 4,
 "nbformat_minor": 2
}
