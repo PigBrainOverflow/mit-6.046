{
 "cells": [
  {
   "cell_type": "markdown",
   "metadata": {},
   "source": [
    "### van Emde Boas Tree\n",
    "\n",
    "IDEA!: Suppose there's a bit vector $\\{0, 1, \\cdots, u-1\\}$, where $u$ is the range of key. We split it into $\\sqrt{u}$ clusters size-$\\sqrt{u}$ called $V.cluster[i]$. To indicate whether a cluster is empty, we also maintain $V.summary$, whose size is also $\\sqrt{u}$. Recursively, Both $V.cluster[i]$ and $V.summary$ can be stored in size-$\\sqrt{u}$ vEBs."
   ]
  },
  {
   "cell_type": "markdown",
   "metadata": {},
   "source": [
    "### problem 3-1\n",
    "\n",
    "1. \n",
    "```python\n",
    "def successor(V, x):\n",
    "    if x < V.min:\n",
    "        return V.min\n",
    "    hi, lo = high(x), low(x)\n",
    "    if lo < V.cluster[hi].max:\n",
    "        lo = successor(V.cluster[hi], lo)\n",
    "    else:\n",
    "        hi = successor(V.summary, hi)\n",
    "        lo = V.cluster[hi].min\n",
    "    return index(hi, lo)\n",
    "\n",
    "def insert(V, x):\n",
    "    if V.min is None:   # note that we don't store min in cluster\n",
    "        V.min = V.max = x   # empty vEB\n",
    "        return\n",
    "    if x < V.min:   # x is the new min\n",
    "        swap(x, V.min)\n",
    "    elif x > V.max:   # x is the new max\n",
    "        V.max = x\n",
    "    hi, lo = high(x), low(x)\n",
    "    if V.cluster[hi] is None:    # the cluster has not be allocated\n",
    "        insert(V.summary, hi)\n",
    "        V.cluster[hi] = vEB()    # allocate\n",
    "    insert(V.cluster[hi], lo)\n",
    "\n",
    "def delete(V, x):\n",
    "    if x == V.min:  # we should find a new min\n",
    "        i = V.summary.min\n",
    "        if i is None:   # there's no new min\n",
    "            V.min = V.max = None\n",
    "            return\n",
    "        V.min = index(i, V.cluster[i].min)  # combine high and low to create a new min\n",
    "    hi, lo = high(x), low(x)\n",
    "    delete(V.cluster[hi], lo)\n",
    "    if V.cluster[hi].min is None:   # the cluster is empty\n",
    "        V.cluster[hi] = None\n",
    "        delete(V.summary, hi)\n",
    "    if x == V.max:  # update max\n",
    "        if V.summary.max is not None:   # means max != min\n",
    "            i = V.summary.max\n",
    "            V.max = index(i, V.cluster[i].max)\n",
    "```\n",
    "The time complexity is $T(u) = T(u^{\\frac{2}{3}}) + O(1) = O(loglogu)$.\n",
    "\n",
    "2. For $successor(V, x)$, we need to check whether $x == V.max$. For $insert(V, x)$, we need to check whether $x > V.max$, if so, $swap(x, V.max)$. For $delete(V, x)$, . The time complexity is $O(loglogu)$."
   ]
  }
 ],
 "metadata": {
  "language_info": {
   "name": "python"
  }
 },
 "nbformat": 4,
 "nbformat_minor": 2
}
