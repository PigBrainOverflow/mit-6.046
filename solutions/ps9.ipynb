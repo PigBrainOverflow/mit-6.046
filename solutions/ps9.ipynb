{
 "cells": [
  {
   "cell_type": "markdown",
   "metadata": {},
   "source": [
    "### Approximation Algorithm\n",
    "\n",
    "1. $\\rho(n)$-approximation: $\\max(\\frac{C}{C_{opt}}, \\frac{C_{opt}}{C})\\le \\rho(n)$, where $C$ is the solution returned by the algorithm and $C_{opt}$ is the optimal solution.\n",
    "\n",
    "2. Polynomial Time Approximation Scheme (PTAS): runs in time polynomial in the size of the input $n$.\n",
    "\n",
    "3. Fully Polynomial Time Approximation Scheme (FPTAS): runs in time polynomial in both the size of the input $n$ and the approximation factor $\\epsilon$."
   ]
  },
  {
   "cell_type": "markdown",
   "metadata": {},
   "source": [
    "### Fixed-Parameter Algorithm\n",
    "\n",
    "1. Fixed-Parameter Algorithm (FPA): polynomial in input size $n$ but exponential in parameter $k$.\n",
    "\n",
    "2. Fixed-Parameter Tractable (FPT): in $f(k)\\cdot n^{O(1)}$ (instead of $n^{f(k)}$).\n",
    "\n",
    "3. Kernelization: A polynomial-time algorithm converting an input $<x, k>$ into a smaller one $<x', k'>$ where $|x'| \\le f(k)$."
   ]
  },
  {
   "cell_type": "markdown",
   "metadata": {},
   "source": [
    "### problem 9-1\n",
    "\n",
    "1. We construct $S = \\{1, B\\}, V = \\{1, B - 1\\}$, then by applying $Alg_1$, we will always get $v = 1$ but the optimal is $v_{opt} = B - 1$. There's no constant ratio.\n",
    "\n",
    "2. If $s_A \\le B$, then $v_A$ is the optimal. Suppose the optimal choice is not $\\{a_1, a_2, \\cdots, a_{i-1}\\}$, then $v_{opt} \\le B\\cdot \\frac{\\sum_{j=1}^i v_j}{\\sum_{j=1}^i s_j} \\le \\sum_{j=1}^i v_j$. Our choice by $Alg_2$ is $v = \\max(v_i, \\sum_{j=1}^{i-1} v_j) \\ge \\frac{1}{2}\\sum_{j=1}^i v_j \\ge \\frac{1}{2}v_{opt}$.\n",
    "\n",
    "3. $S_{i, v} = \\min(S_{i-1, v}, S_{i-1, v-v_i} + s_i)$. We return the largest $v$ where $S_{n, v} \\ne \\infty$. The time complexity is $O(n^2V)$.\n",
    "\n",
    "4. The maximum scaled value is $V' = \\lfloor \\frac{n}{\\epsilon} \\rfloor$ and the time complexity is $O(\\frac{n^3}{\\epsilon})$. Let $m = \\frac{V\\epsilon}{n}$, then $\\frac{v_i - m}{m} < v'_i = \\lfloor \\frac{v_i}{m} \\rfloor \\le \\frac{v_i}{m}$ and the solution by $Alg_4$ is $v \\ge mv'_{opt}$. The original optimal value $v_{opt}$ cannot exceed the scaled optimal value $m(v'_{opt} + n)$. (You can prove it by Pigeon Hole Theorem, and find the contradiction of $v'_{opt}$ is not optimal.) Therefore, the approximation ratio $=\\frac{v_{opt}}{v} \\le \\frac{v_{opt}}{mv'_{opt}} < \\frac{m(v'_{opt}+n)}{mv'_{opt}} = 1 + \\frac{n}{v'_{opt}}$. It's $(1 + V\\epsilon)$-approximation and FPTAS."
   ]
  },
  {
   "cell_type": "markdown",
   "metadata": {},
   "source": [
    "### problem 9-2\n",
    "\n",
    "1. \n",
    "    Lemma: Any edge $e \\in A$ must be the only edge in $A$ on some directed cycle of $T$ (otherwise, $A$ is not minimal, $A-\\{e\\}$ is better).\n",
    "\n",
    "    Suppose there exists a cycle $c'$ in $T'$. Denote $A' = reversed(A)$.\n",
    "\n",
    "    Case 1: $\\forall e' \\in c', e' \\notin A'$, namely all edges in $c'$ come from the original tournament $T$. We have $c' \\in T$. There is a contradiction according to the definition of cycle cover, $\\exist e \\in c', e\\in A$.\n",
    "\n",
    "    Case 2: $e'_{v,u}\\in c'$ is an edge $\\in A'$. Then $e_{u, v}\\in A$ and there must be a path $p_{v,u}$ in $T$ from $v$ to $u$ (by the lemma above). There must also be a path $p_{u,v}$ in $T$ from $u$ to $v$ since for each edge $\\in A'$, we can find a path $\\in A$. Substitute all reversed edges with their corresponding paths. Therefore, the cycle $p_{u,v} \\cup p_{v, u}$ in $T$ contains no edge $\\in A$. Contradiction.\n",
    "\n",
    "2. \n",
    "    1. Any edge in more than $k$ triangles must be in the cover (otherwise, more than $k$ edges must be chosen).\n",
    "    2. Remove such edges one at a time, decreasing $k$ accordingly (to $k'$).\n",
    "    3. All edges now are in at most $k'$ triangles.\n",
    "    4. If there are more than $k'^2$ triangles, return $NO$.\n",
    "    5. Else, $|E'| \\le 3k'^2$ and $|V'| \\le k'^2 + 2k'$.\n",
    "\n",
    "3. Kernelize the original problem and run a brute-force algorithm."
   ]
  }
 ],
 "metadata": {
  "kernelspec": {
   "display_name": "pytorch",
   "language": "python",
   "name": "python3"
  },
  "language_info": {
   "name": "python",
   "version": "3.11.5"
  }
 },
 "nbformat": 4,
 "nbformat_minor": 2
}
