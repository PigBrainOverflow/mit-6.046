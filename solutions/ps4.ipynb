{
 "cells": [
  {
   "cell_type": "markdown",
   "metadata": {},
   "source": [
    "### Amortized Analysis\n",
    "\n",
    "Amortized cost is not simply average cost! Amortized costs average on a sequence of operations (like insert, insert, delete, delete).\n",
    "\n",
    "1. Aggregate Method: Table Doubling\n",
    "2. Accounting Method: Table Doubling\n",
    "3. Charging Method: Table Doubling & Halving\n",
    "4. Potential Method: Binary Counter\n",
    "\n",
    "How to define a potential function $\\Phi$ for potential method? The key is to make your function reflect how `worse` your data structure state is. We have $amortized\\_cost = actual\\_cost + \\Delta\\Phi$."
   ]
  },
  {
   "cell_type": "markdown",
   "metadata": {},
   "source": [
    "### Randomized Algorithm\n",
    "\n",
    "1. Monte Carlo: probably correct\n",
    "2. Las Vegas: probably fast"
   ]
  },
  {
   "cell_type": "markdown",
   "metadata": {},
   "source": [
    "### Skip List\n",
    "\n",
    "Expected $O(logn)$ for operations with high probability.\n",
    "\n",
    "It's made up of several levels of sorted linked list. When $search(x)$, we walk through the top linked list until we find a suitable position and then walk down to a new linked list. When $insert(x)$, we first find the proper position at the bottom list, then we need to promote it to a upper list with probability $Pr = \\frac{1}{2}$ (create a new node if necessary) and repeat this promotion step until it fails. When $delete(x)$, delete it at all levels.\n",
    "\n",
    "With-high-probability: $\\forall \\alpha > 1, \\exist c, Pr[E_{\\alpha}] \\ge 1 - \\frac{c}{n^{\\alpha}}$. Expectation with high probability is stronger than expectation, since the former emphasizes that we can get to the expectation bound as close as we want."
   ]
  },
  {
   "cell_type": "markdown",
   "metadata": {},
   "source": [
    "### problem 4-1\n",
    "\n",
    "1. A queue and a deque: The deque is monotonically decreasing from tail to head.\n",
    "2. \n",
    "```python\n",
    "Q = queue()\n",
    "D = deque()\n",
    "\n",
    "def enqueue(Q, D, x):\n",
    "    Q.put(x)\n",
    "    while D and D[-1] > x:   # if the tail of D is larger\n",
    "        D.pop()\n",
    "    D.append(x)\n",
    "\n",
    "def dequeue(Q, D):\n",
    "    x = Q.pop()\n",
    "    if D[0] == x:\n",
    "        D.popleft()\n",
    "    return x\n",
    "\n",
    "def find_min(D):\n",
    "    return D[0]\n",
    "```\n",
    "\n",
    "3. First we prove that $D$ is always the subsequence of $Q$. Suppose after a sequence of operations, we have $Q$ and its subsequence $D$. If we $enqueue(Q, D, x)$, we will get $Q' = Q ++ [x]$ and $D' = D[:k] ++ [x]$ so $D'$ must be a subsequence of $Q'$ and for $dequeue(Q, D)$, we have $Q' = Q[1:]$ and $D' = Q[k:], k \\ge 1$. Obviously, $D$ is monotonically decreasing from tail to head. Next we should prove that $D$ is the longest decreasing subsequence of $Q$ containing $Q[-1]$. Suppose after a sequence of operations, we have $Q$ and $D$. For $enqueue(Q, D, x)$, we have $Q' = Q ++ [x]$ and $D' = D[:k] ++ [x]$, where $D[k:] \\ge x$. It's easy to see $D'$ is a subsequence of $Q'$ containing $Q'[-1]$, namely $x$. It's also longest: If not, namely there exists a subsequence $\\hat{D}$ that $\\hat{D} \\ge x, len(\\hat{D}) > len(D[:k])$, then $len(\\hat{D} ++ D[k:]) > len(D)$, which makes $D$ not optimal. For $dequeue(Q, D)$, if $Q[0]$ is not the minimum element in $Q$, then we just $Q.pop()$ and maintain the invariants, otherwise, we need to pop $D[0]$ too. We have $Q' = Q[1:], D' = D[1:]$ so $D'$ is still the longest decreasing subsequence of $Q'$ containing $Q'[-1]$.\n",
    "4. We define the potential function $\\Phi(D) = len(D)$.  \n",
    "For $enqueue(Q, D, x)$, we have $actual\\_cost = 1 + 1 + k$, where $k$ is the number of elements we pop and the difference of potential $\\Delta\\Phi = \\Phi(D') - \\Phi(D) = 1-k$.  \n",
    "For $dequeue(Q, D)$, we have $actual\\_cost = 1 + 1$ and $\\Delta\\Phi = -1$.  \n",
    "For $find\\_min(D)$, we have $actual\\_cost = 1$ and $\\Delta\\Phi = 0$.  \n",
    "For a sequence of operations with the number of $a, b, c$ each, where $b \\le a$, our total actual cost is $2a + \\sum_{i}{k_i} + 2b + c$ and for total potential $\\Phi(D) - \\Phi(\\empty) = a - \\sum_{i}{k_i} - b \\ge 0$. $\\sum_{i}{k_i} \\le a - b$ and total cost is now $\\le 3a + b + c$. All operations have $\\Theta(1)$ cost.\n",
    "\n",
    "NOTE: When I say `decreasing` in this solution, I mean non-increasing more precisely."
   ]
  },
  {
   "cell_type": "markdown",
   "metadata": {},
   "source": [
    "### problem 4-2\n",
    "\n",
    "1. \n",
    "$$\n",
    "Pr[pivot = x_i] = \\frac{1}{m} \\\\\n",
    "Pr[pivot \\ne x_i \\cap len(subarray\\ of \\ x_i) \\le \\frac{3}{4}m] = \\frac{\\sum_{k = 1}^{\\frac{3}{4}m}{k}}{C_{m}^{2}} = \\frac{9m+12}{16m+16} \\\\\n",
    "Pr[E_i] \\ge \\frac{1}{2}\n",
    "$$\n",
    "\n",
    "2. First we claim that the total number of times the algorithm compares $x_i$ with pivots is the number of $Quicksort$ on subarray containing $x_i$, namely how many $Quicksort$ on $x_i$ until it is selected as a pivot. From leaf $x_i$ to root (the whole array), the size of subarray is extend by at least factor $\\frac{4}{3}$ with $Pr[E_i] \\ge \\frac{1}{2}$ and we can assume that with high probability, the number of heads we need is at most $log_{\\frac{4}{3}}n = log_{\\frac{4}{3}}2\\cdot lgn$. Therefore, in order to get enough heads, we need at least $3(2 + log_{\\frac{4}{3}}2)lgn$ tosses, $d = 3(2 + log_{\\frac{4}{3}}2) \\approx 13.23$.\n",
    "\n",
    "3. Let $E_i$ represent the event that $x_i$ is compared at most $d'logn$ times. $Pr[\\bigcap_{i}E_i] = 1 - Pr[\\neg \\bigcap_{i}E_i] = 1 - Pr[\\bigcup_{i}{\\neg E_i}]$. We can apply union bound theroem: $1 - Pr[\\bigcup_{i}{\\neg E_i}] \\ge 1 - \\sum_i{Pr[\\neg E_i]} = 1 - \\frac{1}{n}$.\n",
    "\n",
    "4. For any probability $1 - \\frac{1}{n^\\alpha}$, our complexity bound is $T(n) = 3(\\alpha + 1 + log_{\\frac{4}{3}}2)lgn$."
   ]
  }
 ],
 "metadata": {
  "language_info": {
   "name": "python"
  }
 },
 "nbformat": 4,
 "nbformat_minor": 2
}
