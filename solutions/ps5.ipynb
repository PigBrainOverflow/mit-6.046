{
 "cells": [
  {
   "cell_type": "markdown",
   "metadata": {
    "vscode": {
     "languageId": "plaintext"
    }
   },
   "source": [
    "### Tree Augmentation\n",
    "\n",
    "1. subtree-size: supports `rank(x)` and `select(i)`.\n",
    "2. level-linking & subtree-min-max: supports finger-search-property (fast when the target node is close to the given node).\n",
    "3. tree-on-node: supports orthogonal-range-search."
   ]
  },
  {
   "cell_type": "markdown",
   "metadata": {},
   "source": [
    "### problem 5-1\n",
    "\n",
    "1. For simplicity, we assume that $x.key < k$.\n",
    "```python\n",
    "def finger_search(x, k):\n",
    "    cur = x\n",
    "    # phase 1: up and right\n",
    "    while cur.right.key < k:\n",
    "        cur = cur.right\n",
    "        cur = cur if cur.up is None else cur.up # go up if possible\n",
    "\n",
    "    # phase 2: down and right\n",
    "    while True:\n",
    "        if cur.right.key > k:\n",
    "            if cur.down is None:\n",
    "                return cur\n",
    "            cur = cur.down  # go down if possible\n",
    "        else:\n",
    "            cur = cur.right\n",
    "\n",
    "    # never reach\n",
    "    return None\n",
    "```\n",
    "The total search path has two phases: we first move up-and-right and then down-and-right. We suppose that the highest level during search is $d = \\lg|rank(x.key)-rank(k)| = \\lg m$ with high probability and for $x$, we need $d$ heads to get up and for $y$, we also need $d$ heads to get up and converge with $x$.\n",
    "\n",
    "2. Augmentation: For each node (except bottom nodes), we store its distance to its right neighbor at same level. For `search(x)`, there's no extra cost. For `insert(x)`, when we promote a node, we can update the distance of its left neighbor and calculate its self distance in $O(1)$ each. For `delete(x)`, we can also update all neighbors of its promoted node in $O(1)$ each.\n",
    "\n",
    "3. \n",
    "```python\n",
    "def rank_search(x, r):\n",
    "    cur = x\n",
    "    # phase 1: up and right\n",
    "    while cur.dist < r:\n",
    "        d = cur.dist\n",
    "        cur = cur.right\n",
    "        cur = cur if cur.up is None else cur.up # go up and right\n",
    "        r -= d\n",
    "\n",
    "    # phase 2: down and right\n",
    "    while True:\n",
    "        d = cur.dist\n",
    "        if d > r:\n",
    "            if cur.down is None:\n",
    "                return cur\n",
    "            cur = cur.down  # go down if possible\n",
    "        else:\n",
    "            cur = cur.right\n",
    "            r -= d\n",
    "\n",
    "    # never reach\n",
    "    return None\n",
    "```"
   ]
  },
  {
   "cell_type": "markdown",
   "metadata": {},
   "source": [
    "### problem 5-2\n",
    "\n",
    "1. Heap: We maintain a min-heap of size $m$, whose elements are $(value, index)$ pairs. After traverse $P$, we can sort the heap by $index$ to recover $S$. The time complexity is $O(n\\log m) + O(m \\log m) = O(n \\log m)$.\n",
    "\n",
    "2. Dynamic Programming (with extensions): $dp(i, j, T)$ represents the maximum total value of at most $j$ prizes in first $i$ prizes if the last prize has type $T$.  \n",
    "$$\n",
    "\\begin{align}\n",
    "dp(i, j, A) &= \\max\\{ \\\\\n",
    "    & dp(i-1, j, A), \\\\\n",
    "    & dp(i-1, j-1, A) + value_j,\\ type_j = A \\\\\n",
    "\\} \\\\\n",
    "\n",
    "dp(i, j, B) &= \\max\\{ \\\\\n",
    "    & dp(i-1, j, B), \\\\\n",
    "    & dp(i-1, j-1, A) + value_j,\\ type_j = B \\\\\n",
    "    & dp(i-1, j-1, B) + value_j,\\ type_j = B \\\\\n",
    "\\}\n",
    "\\end{align}\n",
    "$$\n",
    "The time complexity is $O(mn)$.\n",
    "\n",
    "3. Dynamic Programming (with constraints): $dp(i, j)$ represents the maximum total value of at most $j$ prizes ended with $prize_i$.  \n",
    "$$\n",
    "\\begin{align}\n",
    "dp(i, j) = \\max_{k=0}^{i-1}\\{dp(k, j-1)\\} + value_i,\\ value_k \\le value_i\n",
    "\\end{align}\n",
    "$$\n",
    "We use an augmented-BST (with maximum value field each node) to support $O(\\log n)$-time query and insert. Therefore, the time complexity is $O(mn\\log n)$.\n",
    "\n",
    "4. Dynamic Programming (on tree): $dp(v, j)$ represents the maximum total value of at most $j$ prizes in subtree $v$.  \n",
    "$$\n",
    "\\begin{align}\n",
    "dp(v, j) &= \\max_{k=0}^{j-1}\\{dp(v.left, k) + dp(v.right, j-1-k)\\} + value_v \\\\\n",
    "dp(v, 0) &= 0\n",
    "\\end{align}\n",
    "$$\n",
    "The time complexity is $O(mn^2)$."
   ]
  }
 ],
 "metadata": {
  "kernelspec": {
   "display_name": "web",
   "language": "python",
   "name": "python3"
  },
  "language_info": {
   "codemirror_mode": {
    "name": "ipython",
    "version": 3
   },
   "file_extension": ".py",
   "mimetype": "text/x-python",
   "name": "python",
   "nbconvert_exporter": "python",
   "pygments_lexer": "ipython3",
   "version": "3.11.8"
  }
 },
 "nbformat": 4,
 "nbformat_minor": 2
}
